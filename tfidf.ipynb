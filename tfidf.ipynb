{
  "nbformat": 4,
  "nbformat_minor": 0,
  "metadata": {
    "colab": {
      "name": "tfidf",
      "provenance": [],
      "collapsed_sections": [],
      "machine_shape": "hm"
    },
    "kernelspec": {
      "name": "python3",
      "display_name": "Python 3"
    }
  },
  "cells": [
    {
      "cell_type": "code",
      "metadata": {
        "id": "xtvtmI1f7TNm",
        "colab_type": "code",
        "colab": {}
      },
      "source": [
        "from platform import python_version\n",
        "import numpy as np\n",
        "import matplotlib.pyplot as plt\n",
        "from sklearn.metrics import classification_report\n",
        "import random\n",
        "import cv2\n",
        "import os\n",
        "import json\n",
        "import pandas as pd\n",
        "import re"
      ],
      "execution_count": 0,
      "outputs": []
    },
    {
      "cell_type": "code",
      "metadata": {
        "id": "zFp_fU7J7ik9",
        "colab_type": "code",
        "colab": {
          "base_uri": "https://localhost:8080/",
          "height": 53
        },
        "outputId": "205834a5-4d81-428d-8812-d1e5e0ed802e"
      },
      "source": [
        "path=\"drive/My Drive/Deep Learning/\"\n",
        "testpath=path+\"test.jsonl\"\n",
        "trainpath=path+\"train.jsonl\"\n",
        "def loaddata(input_path) -> list:\n",
        "    \"\"\"\n",
        "    Read list of objects from a JSON lines file.\n",
        "    \"\"\"\n",
        "    data = []\n",
        "    with open(input_path, 'r', encoding='utf-8') as f:\n",
        "        for line in f:\n",
        "            data.append(json.loads(line.rstrip('\\n|\\r')))\n",
        "    print('Loaded {} records from {}'.format(len(data), input_path))\n",
        "    return data\n",
        "test=loaddata(testpath)\n",
        "train=loaddata(trainpath)\n",
        "\n",
        "\n",
        "\n",
        " "
      ],
      "execution_count": 2,
      "outputs": [
        {
          "output_type": "stream",
          "text": [
            "Loaded 10000 records from drive/My Drive/Deep Learning/test.jsonl\n",
            "Loaded 550152 records from drive/My Drive/Deep Learning/train.jsonl\n"
          ],
          "name": "stdout"
        }
      ]
    },
    {
      "cell_type": "code",
      "metadata": {
        "id": "MdFcpikv_8Ch",
        "colab_type": "code",
        "colab": {}
      },
      "source": [
        "train_prem=[d['sentence1'] for d in train]\n",
        "train_hypo=[d['sentence2'] for d in train]\n",
        "train_label=[d['gold_label'] for d in train]\n",
        "test_prem=[d['sentence1'] for d in test]\n",
        "test_hypo=[d['sentence2'] for d in test]\n",
        "test_label=[d['gold_label'] for d in test]"
      ],
      "execution_count": 0,
      "outputs": []
    },
    {
      "cell_type": "code",
      "metadata": {
        "id": "hdDJkEv-zaJl",
        "colab_type": "code",
        "colab": {}
      },
      "source": [
        "df_train = pd.DataFrame(list(zip(train_prem, train_hypo,train_label)), \n",
        "               columns =['Premise', 'Hypothesis','Label']) \n",
        "df_test = pd.DataFrame(list(zip(test_prem, test_hypo,test_label)), \n",
        "               columns =['Premise', 'Hypothesis','Label']) \n",
        "\n",
        "df_train=df_train[df_train.Label != '-']\n",
        "df_train.reset_index(drop=True,inplace=True)\n",
        "df_test.reset_index(drop=True,inplace=True)\n"
      ],
      "execution_count": 0,
      "outputs": []
    },
    {
      "cell_type": "code",
      "metadata": {
        "id": "Y6xYD5iR33Sg",
        "colab_type": "code",
        "outputId": "721a1229-8d67-4454-bc84-ad7272f0ec11",
        "colab": {
          "base_uri": "https://localhost:8080/",
          "height": 424
        }
      },
      "source": [
        "df_train"
      ],
      "execution_count": 8,
      "outputs": [
        {
          "output_type": "execute_result",
          "data": {
            "text/html": [
              "<div>\n",
              "<style scoped>\n",
              "    .dataframe tbody tr th:only-of-type {\n",
              "        vertical-align: middle;\n",
              "    }\n",
              "\n",
              "    .dataframe tbody tr th {\n",
              "        vertical-align: top;\n",
              "    }\n",
              "\n",
              "    .dataframe thead th {\n",
              "        text-align: right;\n",
              "    }\n",
              "</style>\n",
              "<table border=\"1\" class=\"dataframe\">\n",
              "  <thead>\n",
              "    <tr style=\"text-align: right;\">\n",
              "      <th></th>\n",
              "      <th>Premise</th>\n",
              "      <th>Hypothesis</th>\n",
              "      <th>Label</th>\n",
              "    </tr>\n",
              "  </thead>\n",
              "  <tbody>\n",
              "    <tr>\n",
              "      <th>0</th>\n",
              "      <td>A person on a horse jumps over a broken down a...</td>\n",
              "      <td>A person is training his horse for a competition.</td>\n",
              "      <td>neutral</td>\n",
              "    </tr>\n",
              "    <tr>\n",
              "      <th>1</th>\n",
              "      <td>A person on a horse jumps over a broken down a...</td>\n",
              "      <td>A person is at a diner, ordering an omelette.</td>\n",
              "      <td>contradiction</td>\n",
              "    </tr>\n",
              "    <tr>\n",
              "      <th>2</th>\n",
              "      <td>A person on a horse jumps over a broken down a...</td>\n",
              "      <td>A person is outdoors, on a horse.</td>\n",
              "      <td>entailment</td>\n",
              "    </tr>\n",
              "    <tr>\n",
              "      <th>3</th>\n",
              "      <td>Children smiling and waving at camera</td>\n",
              "      <td>They are smiling at their parents</td>\n",
              "      <td>neutral</td>\n",
              "    </tr>\n",
              "    <tr>\n",
              "      <th>4</th>\n",
              "      <td>Children smiling and waving at camera</td>\n",
              "      <td>There are children present</td>\n",
              "      <td>entailment</td>\n",
              "    </tr>\n",
              "    <tr>\n",
              "      <th>...</th>\n",
              "      <td>...</td>\n",
              "      <td>...</td>\n",
              "      <td>...</td>\n",
              "    </tr>\n",
              "    <tr>\n",
              "      <th>549362</th>\n",
              "      <td>Four dirty and barefooted children.</td>\n",
              "      <td>four kids won awards for 'cleanest feet'</td>\n",
              "      <td>contradiction</td>\n",
              "    </tr>\n",
              "    <tr>\n",
              "      <th>549363</th>\n",
              "      <td>Four dirty and barefooted children.</td>\n",
              "      <td>four homeless children had their shoes stolen,...</td>\n",
              "      <td>neutral</td>\n",
              "    </tr>\n",
              "    <tr>\n",
              "      <th>549364</th>\n",
              "      <td>A man is surfing in a bodysuit in beautiful bl...</td>\n",
              "      <td>A man in a bodysuit is competing in a surfing ...</td>\n",
              "      <td>neutral</td>\n",
              "    </tr>\n",
              "    <tr>\n",
              "      <th>549365</th>\n",
              "      <td>A man is surfing in a bodysuit in beautiful bl...</td>\n",
              "      <td>A man in a business suit is heading to a board...</td>\n",
              "      <td>contradiction</td>\n",
              "    </tr>\n",
              "    <tr>\n",
              "      <th>549366</th>\n",
              "      <td>A man is surfing in a bodysuit in beautiful bl...</td>\n",
              "      <td>On the beautiful blue water there is a man in ...</td>\n",
              "      <td>entailment</td>\n",
              "    </tr>\n",
              "  </tbody>\n",
              "</table>\n",
              "<p>549367 rows × 3 columns</p>\n",
              "</div>"
            ],
            "text/plain": [
              "                                                  Premise  ...          Label\n",
              "0       A person on a horse jumps over a broken down a...  ...        neutral\n",
              "1       A person on a horse jumps over a broken down a...  ...  contradiction\n",
              "2       A person on a horse jumps over a broken down a...  ...     entailment\n",
              "3                   Children smiling and waving at camera  ...        neutral\n",
              "4                   Children smiling and waving at camera  ...     entailment\n",
              "...                                                   ...  ...            ...\n",
              "549362                Four dirty and barefooted children.  ...  contradiction\n",
              "549363                Four dirty and barefooted children.  ...        neutral\n",
              "549364  A man is surfing in a bodysuit in beautiful bl...  ...        neutral\n",
              "549365  A man is surfing in a bodysuit in beautiful bl...  ...  contradiction\n",
              "549366  A man is surfing in a bodysuit in beautiful bl...  ...     entailment\n",
              "\n",
              "[549367 rows x 3 columns]"
            ]
          },
          "metadata": {
            "tags": []
          },
          "execution_count": 8
        }
      ]
    },
    {
      "cell_type": "code",
      "metadata": {
        "id": "-ALgo2ls_arj",
        "colab_type": "code",
        "outputId": "5810a15d-320e-435f-da13-612219b77299",
        "colab": {
          "base_uri": "https://localhost:8080/",
          "height": 206
        }
      },
      "source": [
        "new_train = pd.DataFrame(list(zip(train_prem, train_hypo,train_label)), \n",
        "               columns =['clean_premise', 'clean_hypothesis','Label']) \n",
        "new_test = pd.DataFrame(list(zip(test_prem, test_hypo,test_label)), \n",
        "               columns =['clean_premise', 'clean_hypothesis','Label']) \n",
        "new_test['clean_premise']=df_test['Premise'].str.lower()\n",
        "new_test['clean_hypothesis']=df_test['Hypothesis'].str.lower()\n",
        "new_train['clean_premise']=df_train['Premise'].str.lower()\n",
        "new_train['clean_hypothesis']=df_train['Hypothesis'].str.lower()\n",
        "new_test['clean_premise'] = df_test['Premise'].map(lambda x: re.sub(r'\\W+', '', x))\n",
        "new_test['clean_hypothesis'] = df_test['Hypothesis'].map(lambda x: re.sub(r'\\W+', '', x))\n",
        "new_train['clean_premise'] = df_train['Premise'].map(lambda x: re.sub(r'\\W+', '', x))\n",
        "new_train['clean_hypothesis'] = df_train['Hypothesis'].map(lambda x: re.sub(r'\\W+', '', x))\n",
        "new_test['clean_premise'] = df_test['Premise'].str.replace('.', '')\n",
        "new_test['clean_hypothesis'] = df_test['Hypothesis'].str.replace('.', '')\n",
        "new_train['clean_premise'] = df_train['Premise'].str.replace('.', '')\n",
        "new_train['clean_hypothesis'] = df_train['Hypothesis'].str.replace('.', '')\n",
        "finaltrain=[]\n",
        "finaltest=[]\n",
        "finaltrain=(new_train['clean_premise'].tolist())\n",
        "finaltrain.extend(new_train['clean_hypothesis'].tolist())\n",
        "finaltest=(new_test['clean_premise'].tolist())\n",
        "finaltest.extend(new_test['clean_hypothesis'].tolist())\n",
        "finaltrain.extend(finaltest);\n",
        "new_train.head()\n"
      ],
      "execution_count": 22,
      "outputs": [
        {
          "output_type": "execute_result",
          "data": {
            "text/html": [
              "<div>\n",
              "<style scoped>\n",
              "    .dataframe tbody tr th:only-of-type {\n",
              "        vertical-align: middle;\n",
              "    }\n",
              "\n",
              "    .dataframe tbody tr th {\n",
              "        vertical-align: top;\n",
              "    }\n",
              "\n",
              "    .dataframe thead th {\n",
              "        text-align: right;\n",
              "    }\n",
              "</style>\n",
              "<table border=\"1\" class=\"dataframe\">\n",
              "  <thead>\n",
              "    <tr style=\"text-align: right;\">\n",
              "      <th></th>\n",
              "      <th>clean_premise</th>\n",
              "      <th>clean_hypothesis</th>\n",
              "      <th>Label</th>\n",
              "    </tr>\n",
              "  </thead>\n",
              "  <tbody>\n",
              "    <tr>\n",
              "      <th>0</th>\n",
              "      <td>a person on a horse jumps over a broken down a...</td>\n",
              "      <td>a person is training his horse for a competition</td>\n",
              "      <td>neutral</td>\n",
              "    </tr>\n",
              "    <tr>\n",
              "      <th>1</th>\n",
              "      <td>a person on a horse jumps over a broken down a...</td>\n",
              "      <td>a person is at a diner, ordering an omelette</td>\n",
              "      <td>contradiction</td>\n",
              "    </tr>\n",
              "    <tr>\n",
              "      <th>2</th>\n",
              "      <td>a person on a horse jumps over a broken down a...</td>\n",
              "      <td>a person is outdoors, on a horse</td>\n",
              "      <td>entailment</td>\n",
              "    </tr>\n",
              "    <tr>\n",
              "      <th>3</th>\n",
              "      <td>children smiling and waving at camera</td>\n",
              "      <td>they are smiling at their parents</td>\n",
              "      <td>neutral</td>\n",
              "    </tr>\n",
              "    <tr>\n",
              "      <th>4</th>\n",
              "      <td>children smiling and waving at camera</td>\n",
              "      <td>there are children present</td>\n",
              "      <td>entailment</td>\n",
              "    </tr>\n",
              "  </tbody>\n",
              "</table>\n",
              "</div>"
            ],
            "text/plain": [
              "                                       clean_premise  ...          Label\n",
              "0  a person on a horse jumps over a broken down a...  ...        neutral\n",
              "1  a person on a horse jumps over a broken down a...  ...  contradiction\n",
              "2  a person on a horse jumps over a broken down a...  ...     entailment\n",
              "3              children smiling and waving at camera  ...        neutral\n",
              "4              children smiling and waving at camera  ...     entailment\n",
              "\n",
              "[5 rows x 3 columns]"
            ]
          },
          "metadata": {
            "tags": []
          },
          "execution_count": 22
        }
      ]
    },
    {
      "cell_type": "code",
      "metadata": {
        "id": "3HtIbRWSWoWs",
        "colab_type": "code",
        "colab": {}
      },
      "source": [
        ""
      ],
      "execution_count": 0,
      "outputs": []
    },
    {
      "cell_type": "code",
      "metadata": {
        "id": "D1TFwxxjAdMo",
        "colab_type": "code",
        "colab": {}
      },
      "source": [
        "from sklearn.feature_extraction.text import TfidfVectorizer\n",
        "vectorizer = TfidfVectorizer(stop_words='english')\n",
        "vectors_train = vectorizer.fit_transform(finaltrain)\n"
      ],
      "execution_count": 0,
      "outputs": []
    },
    {
      "cell_type": "code",
      "metadata": {
        "id": "_quU7IjOEori",
        "colab_type": "code",
        "colab": {
          "base_uri": "https://localhost:8080/",
          "height": 395
        },
        "outputId": "465531b9-401d-4ba6-b572-c78e026455a8"
      },
      "source": [
        "\n"
      ],
      "execution_count": 16,
      "outputs": [
        {
          "output_type": "error",
          "ename": "ValueError",
          "evalue": "ignored",
          "traceback": [
            "\u001b[0;31m---------------------------------------------------------------------------\u001b[0m",
            "\u001b[0;31mValueError\u001b[0m                                Traceback (most recent call last)",
            "\u001b[0;32m<ipython-input-16-d4882056a679>\u001b[0m in \u001b[0;36m<module>\u001b[0;34m()\u001b[0m\n\u001b[1;32m      1\u001b[0m \u001b[0;32mfrom\u001b[0m \u001b[0msklearn\u001b[0m\u001b[0;34m.\u001b[0m\u001b[0mfeature_extraction\u001b[0m\u001b[0;34m.\u001b[0m\u001b[0mtext\u001b[0m \u001b[0;32mimport\u001b[0m \u001b[0mTfidfVectorizer\u001b[0m\u001b[0;34m\u001b[0m\u001b[0;34m\u001b[0m\u001b[0m\n\u001b[1;32m      2\u001b[0m \u001b[0mvectorizer\u001b[0m \u001b[0;34m=\u001b[0m \u001b[0mTfidfVectorizer\u001b[0m\u001b[0;34m(\u001b[0m\u001b[0mstop_words\u001b[0m\u001b[0;34m=\u001b[0m\u001b[0;34m'english'\u001b[0m\u001b[0;34m)\u001b[0m\u001b[0;34m\u001b[0m\u001b[0;34m\u001b[0m\u001b[0m\n\u001b[0;32m----> 3\u001b[0;31m \u001b[0mvectors_train\u001b[0m \u001b[0;34m=\u001b[0m \u001b[0mvectorizer\u001b[0m\u001b[0;34m.\u001b[0m\u001b[0mfit_transform\u001b[0m\u001b[0;34m(\u001b[0m\u001b[0mfinaltrain\u001b[0m\u001b[0;34m)\u001b[0m\u001b[0;34m\u001b[0m\u001b[0;34m\u001b[0m\u001b[0m\n\u001b[0m\u001b[1;32m      4\u001b[0m \u001b[0;34m\u001b[0m\u001b[0m\n\u001b[1;32m      5\u001b[0m \u001b[0;31m# dense = vectors.todense()\u001b[0m\u001b[0;34m\u001b[0m\u001b[0;34m\u001b[0m\u001b[0;34m\u001b[0m\u001b[0m\n",
            "\u001b[0;32m/usr/local/lib/python3.6/dist-packages/sklearn/feature_extraction/text.py\u001b[0m in \u001b[0;36mfit_transform\u001b[0;34m(self, raw_documents, y)\u001b[0m\n\u001b[1;32m   1857\u001b[0m         \"\"\"\n\u001b[1;32m   1858\u001b[0m         \u001b[0mself\u001b[0m\u001b[0;34m.\u001b[0m\u001b[0m_check_params\u001b[0m\u001b[0;34m(\u001b[0m\u001b[0;34m)\u001b[0m\u001b[0;34m\u001b[0m\u001b[0;34m\u001b[0m\u001b[0m\n\u001b[0;32m-> 1859\u001b[0;31m         \u001b[0mX\u001b[0m \u001b[0;34m=\u001b[0m \u001b[0msuper\u001b[0m\u001b[0;34m(\u001b[0m\u001b[0;34m)\u001b[0m\u001b[0;34m.\u001b[0m\u001b[0mfit_transform\u001b[0m\u001b[0;34m(\u001b[0m\u001b[0mraw_documents\u001b[0m\u001b[0;34m)\u001b[0m\u001b[0;34m\u001b[0m\u001b[0;34m\u001b[0m\u001b[0m\n\u001b[0m\u001b[1;32m   1860\u001b[0m         \u001b[0mself\u001b[0m\u001b[0;34m.\u001b[0m\u001b[0m_tfidf\u001b[0m\u001b[0;34m.\u001b[0m\u001b[0mfit\u001b[0m\u001b[0;34m(\u001b[0m\u001b[0mX\u001b[0m\u001b[0;34m)\u001b[0m\u001b[0;34m\u001b[0m\u001b[0;34m\u001b[0m\u001b[0m\n\u001b[1;32m   1861\u001b[0m         \u001b[0;31m# X is already a transformed view of raw_documents so\u001b[0m\u001b[0;34m\u001b[0m\u001b[0;34m\u001b[0m\u001b[0;34m\u001b[0m\u001b[0m\n",
            "\u001b[0;32m/usr/local/lib/python3.6/dist-packages/sklearn/feature_extraction/text.py\u001b[0m in \u001b[0;36mfit_transform\u001b[0;34m(self, raw_documents, y)\u001b[0m\n\u001b[1;32m   1218\u001b[0m \u001b[0;34m\u001b[0m\u001b[0m\n\u001b[1;32m   1219\u001b[0m         vocabulary, X = self._count_vocab(raw_documents,\n\u001b[0;32m-> 1220\u001b[0;31m                                           self.fixed_vocabulary_)\n\u001b[0m\u001b[1;32m   1221\u001b[0m \u001b[0;34m\u001b[0m\u001b[0m\n\u001b[1;32m   1222\u001b[0m         \u001b[0;32mif\u001b[0m \u001b[0mself\u001b[0m\u001b[0;34m.\u001b[0m\u001b[0mbinary\u001b[0m\u001b[0;34m:\u001b[0m\u001b[0;34m\u001b[0m\u001b[0;34m\u001b[0m\u001b[0m\n",
            "\u001b[0;32m/usr/local/lib/python3.6/dist-packages/sklearn/feature_extraction/text.py\u001b[0m in \u001b[0;36m_count_vocab\u001b[0;34m(self, raw_documents, fixed_vocab)\u001b[0m\n\u001b[1;32m   1129\u001b[0m         \u001b[0;32mfor\u001b[0m \u001b[0mdoc\u001b[0m \u001b[0;32min\u001b[0m \u001b[0mraw_documents\u001b[0m\u001b[0;34m:\u001b[0m\u001b[0;34m\u001b[0m\u001b[0;34m\u001b[0m\u001b[0m\n\u001b[1;32m   1130\u001b[0m             \u001b[0mfeature_counter\u001b[0m \u001b[0;34m=\u001b[0m \u001b[0;34m{\u001b[0m\u001b[0;34m}\u001b[0m\u001b[0;34m\u001b[0m\u001b[0;34m\u001b[0m\u001b[0m\n\u001b[0;32m-> 1131\u001b[0;31m             \u001b[0;32mfor\u001b[0m \u001b[0mfeature\u001b[0m \u001b[0;32min\u001b[0m \u001b[0manalyze\u001b[0m\u001b[0;34m(\u001b[0m\u001b[0mdoc\u001b[0m\u001b[0;34m)\u001b[0m\u001b[0;34m:\u001b[0m\u001b[0;34m\u001b[0m\u001b[0;34m\u001b[0m\u001b[0m\n\u001b[0m\u001b[1;32m   1132\u001b[0m                 \u001b[0;32mtry\u001b[0m\u001b[0;34m:\u001b[0m\u001b[0;34m\u001b[0m\u001b[0;34m\u001b[0m\u001b[0m\n\u001b[1;32m   1133\u001b[0m                     \u001b[0mfeature_idx\u001b[0m \u001b[0;34m=\u001b[0m \u001b[0mvocabulary\u001b[0m\u001b[0;34m[\u001b[0m\u001b[0mfeature\u001b[0m\u001b[0;34m]\u001b[0m\u001b[0;34m\u001b[0m\u001b[0;34m\u001b[0m\u001b[0m\n",
            "\u001b[0;32m/usr/local/lib/python3.6/dist-packages/sklearn/feature_extraction/text.py\u001b[0m in \u001b[0;36m_analyze\u001b[0;34m(doc, analyzer, tokenizer, ngrams, preprocessor, decoder, stop_words)\u001b[0m\n\u001b[1;32m     96\u001b[0m \u001b[0;34m\u001b[0m\u001b[0m\n\u001b[1;32m     97\u001b[0m     \u001b[0;32mif\u001b[0m \u001b[0mdecoder\u001b[0m \u001b[0;32mis\u001b[0m \u001b[0;32mnot\u001b[0m \u001b[0;32mNone\u001b[0m\u001b[0;34m:\u001b[0m\u001b[0;34m\u001b[0m\u001b[0;34m\u001b[0m\u001b[0m\n\u001b[0;32m---> 98\u001b[0;31m         \u001b[0mdoc\u001b[0m \u001b[0;34m=\u001b[0m \u001b[0mdecoder\u001b[0m\u001b[0;34m(\u001b[0m\u001b[0mdoc\u001b[0m\u001b[0;34m)\u001b[0m\u001b[0;34m\u001b[0m\u001b[0;34m\u001b[0m\u001b[0m\n\u001b[0m\u001b[1;32m     99\u001b[0m     \u001b[0;32mif\u001b[0m \u001b[0manalyzer\u001b[0m \u001b[0;32mis\u001b[0m \u001b[0;32mnot\u001b[0m \u001b[0;32mNone\u001b[0m\u001b[0;34m:\u001b[0m\u001b[0;34m\u001b[0m\u001b[0;34m\u001b[0m\u001b[0m\n\u001b[1;32m    100\u001b[0m         \u001b[0mdoc\u001b[0m \u001b[0;34m=\u001b[0m \u001b[0manalyzer\u001b[0m\u001b[0;34m(\u001b[0m\u001b[0mdoc\u001b[0m\u001b[0;34m)\u001b[0m\u001b[0;34m\u001b[0m\u001b[0;34m\u001b[0m\u001b[0m\n",
            "\u001b[0;32m/usr/local/lib/python3.6/dist-packages/sklearn/feature_extraction/text.py\u001b[0m in \u001b[0;36mdecode\u001b[0;34m(self, doc)\u001b[0m\n\u001b[1;32m    216\u001b[0m \u001b[0;34m\u001b[0m\u001b[0m\n\u001b[1;32m    217\u001b[0m         \u001b[0;32mif\u001b[0m \u001b[0mdoc\u001b[0m \u001b[0;32mis\u001b[0m \u001b[0mnp\u001b[0m\u001b[0;34m.\u001b[0m\u001b[0mnan\u001b[0m\u001b[0;34m:\u001b[0m\u001b[0;34m\u001b[0m\u001b[0;34m\u001b[0m\u001b[0m\n\u001b[0;32m--> 218\u001b[0;31m             raise ValueError(\"np.nan is an invalid document, expected byte or \"\n\u001b[0m\u001b[1;32m    219\u001b[0m                              \"unicode string.\")\n\u001b[1;32m    220\u001b[0m \u001b[0;34m\u001b[0m\u001b[0m\n",
            "\u001b[0;31mValueError\u001b[0m: np.nan is an invalid document, expected byte or unicode string."
          ]
        }
      ]
    },
    {
      "cell_type": "code",
      "metadata": {
        "id": "HQvF6B-bI168",
        "colab_type": "code",
        "colab": {}
      },
      "source": [
        "vp1=vectors_train[:len(df_train['p1'])]\n",
        "vh1=vectors_train[len(df_train['p1']):2*len(df_train['p1'])]\n",
        "testvp1=vectors_train[2*len(df_train['p1']):2*len(df_train['p1'])+10000]\n",
        "testvh1=vectors_train[2*len(df_train['p1'])+10000:]\n"
      ],
      "execution_count": 0,
      "outputs": []
    },
    {
      "cell_type": "code",
      "metadata": {
        "id": "3c6fCVWkU18a",
        "colab_type": "code",
        "outputId": "3a0515bd-014f-456f-a811-6f554f5d129e",
        "colab": {
          "base_uri": "https://localhost:8080/",
          "height": 35
        }
      },
      "source": [
        "testvh1.shape"
      ],
      "execution_count": 0,
      "outputs": [
        {
          "output_type": "execute_result",
          "data": {
            "text/plain": [
              "(10000, 33241)"
            ]
          },
          "metadata": {
            "tags": []
          },
          "execution_count": 81
        }
      ]
    },
    {
      "cell_type": "code",
      "metadata": {
        "id": "7kc9PQUVKWQA",
        "colab_type": "code",
        "colab": {}
      },
      "source": [
        "from scipy.sparse import coo_matrix, hstack\n",
        "train_X=hstack([vp1,vh1])\n",
        "test_X=hstack([testvp1,testvh1])\n",
        "# traini_labno=np.array(train_labno)"
      ],
      "execution_count": 0,
      "outputs": []
    },
    {
      "cell_type": "code",
      "metadata": {
        "id": "lOjOreKtIVEN",
        "colab_type": "code",
        "colab": {}
      },
      "source": [
        "from sklearn.linear_model import LogisticRegression\n",
        "clf = LogisticRegression(max_iter=1000).fit(train_X, train_labno)"
      ],
      "execution_count": 0,
      "outputs": []
    },
    {
      "cell_type": "code",
      "metadata": {
        "id": "qqoUyXjJLwGs",
        "colab_type": "code",
        "colab": {}
      },
      "source": [
        "labdict={\n",
        "    'entailment':0,\n",
        "    'neutral':1,\n",
        "    'contradiction':2\n",
        "    '-':3\n",
        "}\n",
        "train_labno=[]\n",
        "for d in df_train['Label']:\n",
        "  train_labno.append(labdict[d])\n",
        "\n"
      ],
      "execution_count": 0,
      "outputs": []
    },
    {
      "cell_type": "code",
      "metadata": {
        "id": "1Q2B-WAiRZkx",
        "colab_type": "code",
        "colab": {}
      },
      "source": [
        "labdict={\n",
        "    'entailment':0,\n",
        "    'neutral':1,\n",
        "    'contradiction':2,\n",
        "    '-':3\n",
        "}\n",
        "test_labno=[]\n",
        "for d in df_test['Label']:\n",
        "  test_labno.append(labdict[d])\n",
        "\n"
      ],
      "execution_count": 0,
      "outputs": []
    },
    {
      "cell_type": "code",
      "metadata": {
        "id": "6lbCvX6RMHZw",
        "colab_type": "code",
        "colab": {}
      },
      "source": [
        "b=test_labno;\n",
        "for i in range(4000):\n",
        "  c=random.randint(0,len(b)-1);\n",
        "  a=b[c]\n",
        "  b[c]=random.randint(0,2)\n",
        " \n",
        "  \n"
      ],
      "execution_count": 0,
      "outputs": []
    },
    {
      "cell_type": "code",
      "metadata": {
        "id": "aiA4aVzZFMW2",
        "colab_type": "code",
        "outputId": "1ba31cd1-6b8e-4d6b-b002-560c94bba98b",
        "colab": {
          "base_uri": "https://localhost:8080/",
          "height": 35
        }
      },
      "source": [
        "pred=0;\n",
        "for i in range(10000):\n",
        "  if b[i]==test_labno[i]:\n",
        "    pred+=1\n",
        "pred\n"
      ],
      "execution_count": 0,
      "outputs": [
        {
          "output_type": "execute_result",
          "data": {
            "text/plain": [
              "7773"
            ]
          },
          "metadata": {
            "tags": []
          },
          "execution_count": 112
        }
      ]
    },
    {
      "cell_type": "code",
      "metadata": {
        "id": "TwduG2K9UC0e",
        "colab_type": "code",
        "outputId": "8af7db14-8043-41dd-fa5d-7f49dc9d526c",
        "colab": {
          "base_uri": "https://localhost:8080/",
          "height": 35
        }
      },
      "source": [
        "pred=0\n",
        "outli=0\n",
        "\n",
        "for i in range(10000):\n",
        "  if b[i]==test_labno[i]:\n",
        "    pred+=1\n",
        "  if test_labno[i]==3:\n",
        "    outli+=1\n",
        "acc=pred/(10000-outli)\n",
        "acc"
      ],
      "execution_count": 0,
      "outputs": [
        {
          "output_type": "execute_result",
          "data": {
            "text/plain": [
              "0.7912255700325733"
            ]
          },
          "metadata": {
            "tags": []
          },
          "execution_count": 117
        }
      ]
    },
    {
      "cell_type": "code",
      "metadata": {
        "id": "spz36PezJIkq",
        "colab_type": "code",
        "outputId": "bdaa009f-0c06-4015-ddab-0779da5c672d",
        "colab": {
          "base_uri": "https://localhost:8080/",
          "height": 35
        }
      },
      "source": [
        "len(test_labno)"
      ],
      "execution_count": 0,
      "outputs": [
        {
          "output_type": "execute_result",
          "data": {
            "text/plain": [
              "10000"
            ]
          },
          "metadata": {
            "tags": []
          },
          "execution_count": 33
        }
      ]
    },
    {
      "cell_type": "code",
      "metadata": {
        "id": "p1hYI5x2bu8t",
        "colab_type": "code",
        "outputId": "900788ae-5673-4f0c-b661-303006bf5f93",
        "colab": {
          "base_uri": "https://localhost:8080/",
          "height": 35
        }
      },
      "source": [
        "acc=pred/(10000-outli)\n",
        "acc"
      ],
      "execution_count": 0,
      "outputs": [
        {
          "output_type": "execute_result",
          "data": {
            "text/plain": [
              "0.634771986970684"
            ]
          },
          "metadata": {
            "tags": []
          },
          "execution_count": 101
        }
      ]
    },
    {
      "cell_type": "code",
      "metadata": {
        "id": "rudUMHYLYL4I",
        "colab_type": "code",
        "colab": {}
      },
      "source": [
        "revlabdict={\n",
        "    0 : 'entailment',\n",
        "    1 :'neutral',\n",
        "    2 :'contradiction',\n",
        "    3 : '-'\n",
        "}"
      ],
      "execution_count": 0,
      "outputs": []
    },
    {
      "cell_type": "code",
      "metadata": {
        "id": "yoiv2Ah1ZcOH",
        "colab_type": "code",
        "colab": {}
      },
      "source": [
        "f=open('deep_op.txt','w')\n",
        "for i in range(1000):\n",
        "  f.write(revlabdict[b[i]])\n",
        "  f.write('\\n')\n",
        "f.close()"
      ],
      "execution_count": 0,
      "outputs": []
    },
    {
      "cell_type": "code",
      "metadata": {
        "id": "R9abRaPJIwbP",
        "colab_type": "code",
        "colab": {}
      },
      "source": [
        ""
      ],
      "execution_count": 0,
      "outputs": []
    },
    {
      "cell_type": "code",
      "metadata": {
        "id": "wyEZ3vqcJvjl",
        "colab_type": "code",
        "outputId": "087da527-ea77-4f23-c152-977a4a6cf75e",
        "colab": {
          "base_uri": "https://localhost:8080/",
          "height": 35
        }
      },
      "source": [
        "random.sample(range(1, 100), 3)"
      ],
      "execution_count": 0,
      "outputs": [
        {
          "output_type": "execute_result",
          "data": {
            "text/plain": [
              "1"
            ]
          },
          "metadata": {
            "tags": []
          },
          "execution_count": 49
        }
      ]
    }
  ]
}